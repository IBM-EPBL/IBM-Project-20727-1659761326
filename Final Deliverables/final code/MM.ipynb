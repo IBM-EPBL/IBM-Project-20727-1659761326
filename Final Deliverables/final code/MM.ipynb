{
 "cells": [
  {
   "cell_type": "markdown",
   "metadata": {
    "id": "8bAanZPShkpT"
   },
   "source": [
    "**Importing libraries**"
   ]
  },
  {
   "cell_type": "code",
   "execution_count": 1,
   "metadata": {
    "id": "zbTi4g26b50Q"
   },
   "outputs": [],
   "source": [
    "import numpy as np\n",
    "import pandas as pd\n",
    "import seaborn as sns\n",
    "import matplotlib.pyplot as plt\n",
    "import warnings"
   ]
  },
  {
   "cell_type": "markdown",
   "metadata": {
    "id": "7eRgPFE1hfKK"
   },
   "source": [
    "**Reading Dataset**"
   ]
  },
  {
   "cell_type": "code",
   "execution_count": 4,
   "metadata": {},
   "outputs": [],
   "source": [
    "\n",
    "import os, types\n",
    "import pandas as pd\n",
    "from botocore.client import Config\n",
    "import ibm_boto3\n",
    "\n",
    "def __iter__(self): return 0\n",
    "\n",
    "# @hidden_cell\n",
    "# The following code accesses a file in your IBM Cloud Object Storage. It includes your credentials.\n",
    "# You might want to remove those credentials before you share the notebook.\n",
    "cos_client = ibm_boto3.client(service_name='s3',\n",
    "    ibm_api_key_id='XASQkNEL212fp8ybFcqZgV8bG9ErwvLqzJFEzwDfuFa3',\n",
    "    ibm_auth_endpoint=\"https://iam.cloud.ibm.com/oidc/token\",\n",
    "    config=Config(signature_version='oauth'),\n",
    "    endpoint_url='https://s3.private.us.cloud-object-storage.appdomain.cloud')\n",
    "\n",
    "bucket = 'datascience-donotdelete-pr-otpznaf0icrijh'\n",
    "object_key = 'water_data1.txt'\n",
    "\n",
    "streaming_body_1 = cos_client.get_object(Bucket=bucket, Key=object_key)['Body']\n",
    "\n",
    "# Your data file was loaded into a botocore.response.StreamingBody object.\n",
    "# Please read the documentation of ibm_boto3 and pandas to learn more about the possibilities to load the data.\n",
    "# ibm_boto3 documentation: https://ibm.github.io/ibm-cos-sdk-python/\n",
    "# pandas documentation: http://pandas.pydata.org/\n"
   ]
  },
  {
   "cell_type": "code",
   "execution_count": 5,
   "metadata": {},
   "outputs": [
    {
     "data": {
      "text/html": [
       "<div>\n",
       "<style scoped>\n",
       "    .dataframe tbody tr th:only-of-type {\n",
       "        vertical-align: middle;\n",
       "    }\n",
       "\n",
       "    .dataframe tbody tr th {\n",
       "        vertical-align: top;\n",
       "    }\n",
       "\n",
       "    .dataframe thead th {\n",
       "        text-align: right;\n",
       "    }\n",
       "</style>\n",
       "<table border=\"1\" class=\"dataframe\">\n",
       "  <thead>\n",
       "    <tr style=\"text-align: right;\">\n",
       "      <th></th>\n",
       "      <th>STATION CODE</th>\n",
       "      <th>LOCATIONS</th>\n",
       "      <th>STATE</th>\n",
       "      <th>Temp</th>\n",
       "      <th>D.O. (mg/l)</th>\n",
       "      <th>PH</th>\n",
       "      <th>CONDUCTIVITY (µmhos/cm)</th>\n",
       "      <th>B.O.D. (mg/l)</th>\n",
       "      <th>NITRATENAN N+ NITRITENANN (mg/l)</th>\n",
       "      <th>FECAL COLIFORM (MPN/100ml)</th>\n",
       "      <th>TOTAL COLIFORM (MPN/100ml)Mean</th>\n",
       "      <th>year</th>\n",
       "    </tr>\n",
       "  </thead>\n",
       "  <tbody>\n",
       "    <tr>\n",
       "      <th>0</th>\n",
       "      <td>1393</td>\n",
       "      <td>DAMANGANGA AT D/S OF MADHUBAN, DAMAN</td>\n",
       "      <td>DAMAN &amp; DIU</td>\n",
       "      <td>30.6</td>\n",
       "      <td>6.7</td>\n",
       "      <td>7.5</td>\n",
       "      <td>203</td>\n",
       "      <td>NAN</td>\n",
       "      <td>0.1</td>\n",
       "      <td>11</td>\n",
       "      <td>27</td>\n",
       "      <td>2014</td>\n",
       "    </tr>\n",
       "    <tr>\n",
       "      <th>1</th>\n",
       "      <td>1399</td>\n",
       "      <td>ZUARI AT D/S OF PT. WHERE KUMBARJRIA CANAL JOI...</td>\n",
       "      <td>GOA</td>\n",
       "      <td>29.8</td>\n",
       "      <td>5.7</td>\n",
       "      <td>7.2</td>\n",
       "      <td>189</td>\n",
       "      <td>2</td>\n",
       "      <td>0.2</td>\n",
       "      <td>4953</td>\n",
       "      <td>8391</td>\n",
       "      <td>2014</td>\n",
       "    </tr>\n",
       "    <tr>\n",
       "      <th>2</th>\n",
       "      <td>1475</td>\n",
       "      <td>ZUARI AT PANCHAWADI</td>\n",
       "      <td>GOA</td>\n",
       "      <td>29.5</td>\n",
       "      <td>6.3</td>\n",
       "      <td>6.9</td>\n",
       "      <td>179</td>\n",
       "      <td>1.7</td>\n",
       "      <td>0.1</td>\n",
       "      <td>3243</td>\n",
       "      <td>5330</td>\n",
       "      <td>2014</td>\n",
       "    </tr>\n",
       "    <tr>\n",
       "      <th>3</th>\n",
       "      <td>3181</td>\n",
       "      <td>RIVER ZUARI AT BORIM BRIDGE</td>\n",
       "      <td>GOA</td>\n",
       "      <td>29.7</td>\n",
       "      <td>5.8</td>\n",
       "      <td>6.9</td>\n",
       "      <td>64</td>\n",
       "      <td>3.8</td>\n",
       "      <td>0.5</td>\n",
       "      <td>5382</td>\n",
       "      <td>8443</td>\n",
       "      <td>2014</td>\n",
       "    </tr>\n",
       "    <tr>\n",
       "      <th>4</th>\n",
       "      <td>3182</td>\n",
       "      <td>RIVER ZUARI AT MARCAIM JETTY</td>\n",
       "      <td>GOA</td>\n",
       "      <td>29.5</td>\n",
       "      <td>5.8</td>\n",
       "      <td>7.3</td>\n",
       "      <td>83</td>\n",
       "      <td>1.9</td>\n",
       "      <td>0.4</td>\n",
       "      <td>3428</td>\n",
       "      <td>5500</td>\n",
       "      <td>2014</td>\n",
       "    </tr>\n",
       "    <tr>\n",
       "      <th>...</th>\n",
       "      <td>...</td>\n",
       "      <td>...</td>\n",
       "      <td>...</td>\n",
       "      <td>...</td>\n",
       "      <td>...</td>\n",
       "      <td>...</td>\n",
       "      <td>...</td>\n",
       "      <td>...</td>\n",
       "      <td>...</td>\n",
       "      <td>...</td>\n",
       "      <td>...</td>\n",
       "      <td>...</td>\n",
       "    </tr>\n",
       "    <tr>\n",
       "      <th>1986</th>\n",
       "      <td>1330</td>\n",
       "      <td>TAMBIRAPARANI AT ARUMUGANERI, TAMILNADU</td>\n",
       "      <td>NAN</td>\n",
       "      <td>NAN</td>\n",
       "      <td>7.9</td>\n",
       "      <td>738</td>\n",
       "      <td>7.2</td>\n",
       "      <td>2.7</td>\n",
       "      <td>0.518</td>\n",
       "      <td>0.518</td>\n",
       "      <td>202</td>\n",
       "      <td>2003</td>\n",
       "    </tr>\n",
       "    <tr>\n",
       "      <th>1987</th>\n",
       "      <td>1450</td>\n",
       "      <td>PALAR AT VANIYAMBADI WATER SUPPLY HEAD WORK, T...</td>\n",
       "      <td>NAN</td>\n",
       "      <td>29</td>\n",
       "      <td>7.5</td>\n",
       "      <td>585</td>\n",
       "      <td>6.3</td>\n",
       "      <td>2.6</td>\n",
       "      <td>0.155</td>\n",
       "      <td>0.155</td>\n",
       "      <td>315</td>\n",
       "      <td>2003</td>\n",
       "    </tr>\n",
       "    <tr>\n",
       "      <th>1988</th>\n",
       "      <td>1403</td>\n",
       "      <td>GUMTI AT U/S SOUTH TRIPURA,TRIPURA</td>\n",
       "      <td>NAN</td>\n",
       "      <td>28</td>\n",
       "      <td>7.6</td>\n",
       "      <td>98</td>\n",
       "      <td>6.2</td>\n",
       "      <td>1.2</td>\n",
       "      <td>NAN</td>\n",
       "      <td>NAN</td>\n",
       "      <td>570</td>\n",
       "      <td>2003</td>\n",
       "    </tr>\n",
       "    <tr>\n",
       "      <th>1989</th>\n",
       "      <td>1404</td>\n",
       "      <td>GUMTI AT D/S SOUTH TRIPURA, TRIPURA</td>\n",
       "      <td>NAN</td>\n",
       "      <td>28</td>\n",
       "      <td>7.7</td>\n",
       "      <td>91</td>\n",
       "      <td>6.5</td>\n",
       "      <td>1.3</td>\n",
       "      <td>NAN</td>\n",
       "      <td>NAN</td>\n",
       "      <td>562</td>\n",
       "      <td>2003</td>\n",
       "    </tr>\n",
       "    <tr>\n",
       "      <th>1990</th>\n",
       "      <td>1726</td>\n",
       "      <td>CHANDRAPUR, AGARTALA D/S OF HAORA RIVER, TRIPURA</td>\n",
       "      <td>NAN</td>\n",
       "      <td>29</td>\n",
       "      <td>7.6</td>\n",
       "      <td>110</td>\n",
       "      <td>5.7</td>\n",
       "      <td>1.1</td>\n",
       "      <td>NAN</td>\n",
       "      <td>NAN</td>\n",
       "      <td>546</td>\n",
       "      <td>2003</td>\n",
       "    </tr>\n",
       "  </tbody>\n",
       "</table>\n",
       "<p>1991 rows × 12 columns</p>\n",
       "</div>"
      ],
      "text/plain": [
       "     STATION CODE                                          LOCATIONS  \\\n",
       "0            1393               DAMANGANGA AT D/S OF MADHUBAN, DAMAN   \n",
       "1            1399  ZUARI AT D/S OF PT. WHERE KUMBARJRIA CANAL JOI...   \n",
       "2            1475                                ZUARI AT PANCHAWADI   \n",
       "3            3181                        RIVER ZUARI AT BORIM BRIDGE   \n",
       "4            3182                       RIVER ZUARI AT MARCAIM JETTY   \n",
       "...           ...                                                ...   \n",
       "1986         1330            TAMBIRAPARANI AT ARUMUGANERI, TAMILNADU   \n",
       "1987         1450  PALAR AT VANIYAMBADI WATER SUPPLY HEAD WORK, T...   \n",
       "1988         1403                 GUMTI AT U/S SOUTH TRIPURA,TRIPURA   \n",
       "1989         1404                GUMTI AT D/S SOUTH TRIPURA, TRIPURA   \n",
       "1990         1726   CHANDRAPUR, AGARTALA D/S OF HAORA RIVER, TRIPURA   \n",
       "\n",
       "            STATE  Temp D.O. (mg/l)   PH CONDUCTIVITY (µmhos/cm)  \\\n",
       "0     DAMAN & DIU  30.6         6.7  7.5                     203   \n",
       "1             GOA  29.8         5.7  7.2                     189   \n",
       "2             GOA  29.5         6.3  6.9                     179   \n",
       "3             GOA  29.7         5.8  6.9                      64   \n",
       "4             GOA  29.5         5.8  7.3                      83   \n",
       "...           ...   ...         ...  ...                     ...   \n",
       "1986          NAN   NAN         7.9  738                     7.2   \n",
       "1987          NAN    29         7.5  585                     6.3   \n",
       "1988          NAN    28         7.6   98                     6.2   \n",
       "1989          NAN    28         7.7   91                     6.5   \n",
       "1990          NAN    29         7.6  110                     5.7   \n",
       "\n",
       "     B.O.D. (mg/l) NITRATENAN N+ NITRITENANN (mg/l)  \\\n",
       "0              NAN                              0.1   \n",
       "1                2                              0.2   \n",
       "2              1.7                              0.1   \n",
       "3              3.8                              0.5   \n",
       "4              1.9                              0.4   \n",
       "...            ...                              ...   \n",
       "1986           2.7                            0.518   \n",
       "1987           2.6                            0.155   \n",
       "1988           1.2                              NAN   \n",
       "1989           1.3                              NAN   \n",
       "1990           1.1                              NAN   \n",
       "\n",
       "     FECAL COLIFORM (MPN/100ml) TOTAL COLIFORM (MPN/100ml)Mean  year  \n",
       "0                            11                             27  2014  \n",
       "1                          4953                           8391  2014  \n",
       "2                          3243                           5330  2014  \n",
       "3                          5382                           8443  2014  \n",
       "4                          3428                           5500  2014  \n",
       "...                         ...                            ...   ...  \n",
       "1986                      0.518                            202  2003  \n",
       "1987                      0.155                            315  2003  \n",
       "1988                        NAN                            570  2003  \n",
       "1989                        NAN                            562  2003  \n",
       "1990                        NAN                            546  2003  \n",
       "\n",
       "[1991 rows x 12 columns]"
      ]
     },
     "execution_count": 5,
     "metadata": {},
     "output_type": "execute_result"
    }
   ],
   "source": [
    "data=pd.read_csv(streaming_body_1)\n",
    "data"
   ]
  },
  {
   "cell_type": "code",
   "execution_count": 6,
   "metadata": {
    "colab": {
     "base_uri": "https://localhost:8080/",
     "height": 406
    },
    "id": "L4zUM0kccbgk",
    "outputId": "f20460db-81b4-4036-80a1-d701636be000"
   },
   "outputs": [
    {
     "data": {
      "text/html": [
       "<div>\n",
       "<style scoped>\n",
       "    .dataframe tbody tr th:only-of-type {\n",
       "        vertical-align: middle;\n",
       "    }\n",
       "\n",
       "    .dataframe tbody tr th {\n",
       "        vertical-align: top;\n",
       "    }\n",
       "\n",
       "    .dataframe thead th {\n",
       "        text-align: right;\n",
       "    }\n",
       "</style>\n",
       "<table border=\"1\" class=\"dataframe\">\n",
       "  <thead>\n",
       "    <tr style=\"text-align: right;\">\n",
       "      <th></th>\n",
       "      <th>STATION CODE</th>\n",
       "      <th>LOCATIONS</th>\n",
       "      <th>STATE</th>\n",
       "      <th>Temp</th>\n",
       "      <th>D.O. (mg/l)</th>\n",
       "      <th>PH</th>\n",
       "      <th>CONDUCTIVITY (µmhos/cm)</th>\n",
       "      <th>B.O.D. (mg/l)</th>\n",
       "      <th>NITRATENAN N+ NITRITENANN (mg/l)</th>\n",
       "      <th>FECAL COLIFORM (MPN/100ml)</th>\n",
       "      <th>TOTAL COLIFORM (MPN/100ml)Mean</th>\n",
       "      <th>year</th>\n",
       "    </tr>\n",
       "  </thead>\n",
       "  <tbody>\n",
       "    <tr>\n",
       "      <th>0</th>\n",
       "      <td>1393</td>\n",
       "      <td>DAMANGANGA AT D/S OF MADHUBAN, DAMAN</td>\n",
       "      <td>DAMAN &amp; DIU</td>\n",
       "      <td>30.6</td>\n",
       "      <td>6.7</td>\n",
       "      <td>7.5</td>\n",
       "      <td>203</td>\n",
       "      <td>NAN</td>\n",
       "      <td>0.1</td>\n",
       "      <td>11</td>\n",
       "      <td>27</td>\n",
       "      <td>2014</td>\n",
       "    </tr>\n",
       "    <tr>\n",
       "      <th>1</th>\n",
       "      <td>1399</td>\n",
       "      <td>ZUARI AT D/S OF PT. WHERE KUMBARJRIA CANAL JOI...</td>\n",
       "      <td>GOA</td>\n",
       "      <td>29.8</td>\n",
       "      <td>5.7</td>\n",
       "      <td>7.2</td>\n",
       "      <td>189</td>\n",
       "      <td>2</td>\n",
       "      <td>0.2</td>\n",
       "      <td>4953</td>\n",
       "      <td>8391</td>\n",
       "      <td>2014</td>\n",
       "    </tr>\n",
       "    <tr>\n",
       "      <th>2</th>\n",
       "      <td>1475</td>\n",
       "      <td>ZUARI AT PANCHAWADI</td>\n",
       "      <td>GOA</td>\n",
       "      <td>29.5</td>\n",
       "      <td>6.3</td>\n",
       "      <td>6.9</td>\n",
       "      <td>179</td>\n",
       "      <td>1.7</td>\n",
       "      <td>0.1</td>\n",
       "      <td>3243</td>\n",
       "      <td>5330</td>\n",
       "      <td>2014</td>\n",
       "    </tr>\n",
       "    <tr>\n",
       "      <th>3</th>\n",
       "      <td>3181</td>\n",
       "      <td>RIVER ZUARI AT BORIM BRIDGE</td>\n",
       "      <td>GOA</td>\n",
       "      <td>29.7</td>\n",
       "      <td>5.8</td>\n",
       "      <td>6.9</td>\n",
       "      <td>64</td>\n",
       "      <td>3.8</td>\n",
       "      <td>0.5</td>\n",
       "      <td>5382</td>\n",
       "      <td>8443</td>\n",
       "      <td>2014</td>\n",
       "    </tr>\n",
       "    <tr>\n",
       "      <th>4</th>\n",
       "      <td>3182</td>\n",
       "      <td>RIVER ZUARI AT MARCAIM JETTY</td>\n",
       "      <td>GOA</td>\n",
       "      <td>29.5</td>\n",
       "      <td>5.8</td>\n",
       "      <td>7.3</td>\n",
       "      <td>83</td>\n",
       "      <td>1.9</td>\n",
       "      <td>0.4</td>\n",
       "      <td>3428</td>\n",
       "      <td>5500</td>\n",
       "      <td>2014</td>\n",
       "    </tr>\n",
       "  </tbody>\n",
       "</table>\n",
       "</div>"
      ],
      "text/plain": [
       "  STATION CODE                                          LOCATIONS  \\\n",
       "0         1393               DAMANGANGA AT D/S OF MADHUBAN, DAMAN   \n",
       "1         1399  ZUARI AT D/S OF PT. WHERE KUMBARJRIA CANAL JOI...   \n",
       "2         1475                                ZUARI AT PANCHAWADI   \n",
       "3         3181                        RIVER ZUARI AT BORIM BRIDGE   \n",
       "4         3182                       RIVER ZUARI AT MARCAIM JETTY   \n",
       "\n",
       "         STATE  Temp D.O. (mg/l)   PH CONDUCTIVITY (µmhos/cm) B.O.D. (mg/l)  \\\n",
       "0  DAMAN & DIU  30.6         6.7  7.5                     203           NAN   \n",
       "1          GOA  29.8         5.7  7.2                     189             2   \n",
       "2          GOA  29.5         6.3  6.9                     179           1.7   \n",
       "3          GOA  29.7         5.8  6.9                      64           3.8   \n",
       "4          GOA  29.5         5.8  7.3                      83           1.9   \n",
       "\n",
       "  NITRATENAN N+ NITRITENANN (mg/l) FECAL COLIFORM (MPN/100ml)  \\\n",
       "0                              0.1                         11   \n",
       "1                              0.2                       4953   \n",
       "2                              0.1                       3243   \n",
       "3                              0.5                       5382   \n",
       "4                              0.4                       3428   \n",
       "\n",
       "  TOTAL COLIFORM (MPN/100ml)Mean  year  \n",
       "0                             27  2014  \n",
       "1                           8391  2014  \n",
       "2                           5330  2014  \n",
       "3                           8443  2014  \n",
       "4                           5500  2014  "
      ]
     },
     "execution_count": 6,
     "metadata": {},
     "output_type": "execute_result"
    }
   ],
   "source": [
    "data.head()\n"
   ]
  },
  {
   "cell_type": "code",
   "execution_count": 7,
   "metadata": {
    "colab": {
     "base_uri": "https://localhost:8080/",
     "height": 300
    },
    "id": "QWCiUiurclP_",
    "outputId": "7dc33d75-d94e-4ed2-f318-ba2b1096e6b8"
   },
   "outputs": [
    {
     "data": {
      "text/html": [
       "<div>\n",
       "<style scoped>\n",
       "    .dataframe tbody tr th:only-of-type {\n",
       "        vertical-align: middle;\n",
       "    }\n",
       "\n",
       "    .dataframe tbody tr th {\n",
       "        vertical-align: top;\n",
       "    }\n",
       "\n",
       "    .dataframe thead th {\n",
       "        text-align: right;\n",
       "    }\n",
       "</style>\n",
       "<table border=\"1\" class=\"dataframe\">\n",
       "  <thead>\n",
       "    <tr style=\"text-align: right;\">\n",
       "      <th></th>\n",
       "      <th>year</th>\n",
       "    </tr>\n",
       "  </thead>\n",
       "  <tbody>\n",
       "    <tr>\n",
       "      <th>count</th>\n",
       "      <td>1991.000000</td>\n",
       "    </tr>\n",
       "    <tr>\n",
       "      <th>mean</th>\n",
       "      <td>2010.038172</td>\n",
       "    </tr>\n",
       "    <tr>\n",
       "      <th>std</th>\n",
       "      <td>3.057333</td>\n",
       "    </tr>\n",
       "    <tr>\n",
       "      <th>min</th>\n",
       "      <td>2003.000000</td>\n",
       "    </tr>\n",
       "    <tr>\n",
       "      <th>25%</th>\n",
       "      <td>2008.000000</td>\n",
       "    </tr>\n",
       "    <tr>\n",
       "      <th>50%</th>\n",
       "      <td>2011.000000</td>\n",
       "    </tr>\n",
       "    <tr>\n",
       "      <th>75%</th>\n",
       "      <td>2013.000000</td>\n",
       "    </tr>\n",
       "    <tr>\n",
       "      <th>max</th>\n",
       "      <td>2014.000000</td>\n",
       "    </tr>\n",
       "  </tbody>\n",
       "</table>\n",
       "</div>"
      ],
      "text/plain": [
       "              year\n",
       "count  1991.000000\n",
       "mean   2010.038172\n",
       "std       3.057333\n",
       "min    2003.000000\n",
       "25%    2008.000000\n",
       "50%    2011.000000\n",
       "75%    2013.000000\n",
       "max    2014.000000"
      ]
     },
     "execution_count": 7,
     "metadata": {},
     "output_type": "execute_result"
    }
   ],
   "source": [
    "data.describe()"
   ]
  },
  {
   "cell_type": "code",
   "execution_count": 8,
   "metadata": {
    "colab": {
     "base_uri": "https://localhost:8080/"
    },
    "id": "sgpBZqqccsxm",
    "outputId": "b3d39e6f-6974-422e-cbcf-038299357e15"
   },
   "outputs": [
    {
     "name": "stdout",
     "output_type": "stream",
     "text": [
      "<class 'pandas.core.frame.DataFrame'>\n",
      "RangeIndex: 1991 entries, 0 to 1990\n",
      "Data columns (total 12 columns):\n",
      " #   Column                            Non-Null Count  Dtype \n",
      "---  ------                            --------------  ----- \n",
      " 0   STATION CODE                      1991 non-null   object\n",
      " 1   LOCATIONS                         1991 non-null   object\n",
      " 2   STATE                             1991 non-null   object\n",
      " 3   Temp                              1991 non-null   object\n",
      " 4   D.O. (mg/l)                       1991 non-null   object\n",
      " 5   PH                                1991 non-null   object\n",
      " 6   CONDUCTIVITY (µmhos/cm)           1991 non-null   object\n",
      " 7   B.O.D. (mg/l)                     1991 non-null   object\n",
      " 8   NITRATENAN N+ NITRITENANN (mg/l)  1991 non-null   object\n",
      " 9   FECAL COLIFORM (MPN/100ml)        1991 non-null   object\n",
      " 10  TOTAL COLIFORM (MPN/100ml)Mean    1991 non-null   object\n",
      " 11  year                              1991 non-null   int64 \n",
      "dtypes: int64(1), object(11)\n",
      "memory usage: 186.8+ KB\n"
     ]
    }
   ],
   "source": [
    "data.info()"
   ]
  },
  {
   "cell_type": "code",
   "execution_count": 9,
   "metadata": {
    "colab": {
     "base_uri": "https://localhost:8080/"
    },
    "id": "IVFOWhzzcyXI",
    "outputId": "5ce7ebfc-ba0a-4ed2-e87c-8c57550ef588"
   },
   "outputs": [
    {
     "data": {
      "text/plain": [
       "(1991, 12)"
      ]
     },
     "execution_count": 9,
     "metadata": {},
     "output_type": "execute_result"
    }
   ],
   "source": [
    "data.shape"
   ]
  },
  {
   "cell_type": "markdown",
   "metadata": {
    "id": "3LutwPBEhG6z"
   },
   "source": [
    "**Handling Missing Values**"
   ]
  },
  {
   "cell_type": "code",
   "execution_count": 10,
   "metadata": {
    "colab": {
     "base_uri": "https://localhost:8080/"
    },
    "id": "1FcJUQzkc15B",
    "outputId": "b1b5f93b-4986-41e3-a975-6de93074a8b9"
   },
   "outputs": [
    {
     "data": {
      "text/plain": [
       "STATION CODE                        False\n",
       "LOCATIONS                           False\n",
       "STATE                               False\n",
       "Temp                                False\n",
       "D.O. (mg/l)                         False\n",
       "PH                                  False\n",
       "CONDUCTIVITY (µmhos/cm)             False\n",
       "B.O.D. (mg/l)                       False\n",
       "NITRATENAN N+ NITRITENANN (mg/l)    False\n",
       "FECAL COLIFORM (MPN/100ml)          False\n",
       "TOTAL COLIFORM (MPN/100ml)Mean      False\n",
       "year                                False\n",
       "dtype: bool"
      ]
     },
     "execution_count": 10,
     "metadata": {},
     "output_type": "execute_result"
    }
   ],
   "source": [
    "data.isnull().any()"
   ]
  },
  {
   "cell_type": "code",
   "execution_count": 11,
   "metadata": {
    "colab": {
     "base_uri": "https://localhost:8080/"
    },
    "id": "LjOWB85-c9MX",
    "outputId": "d3a07c53-356d-4f79-c70a-399c6f270a11"
   },
   "outputs": [
    {
     "data": {
      "text/plain": [
       "STATION CODE                        0\n",
       "LOCATIONS                           0\n",
       "STATE                               0\n",
       "Temp                                0\n",
       "D.O. (mg/l)                         0\n",
       "PH                                  0\n",
       "CONDUCTIVITY (µmhos/cm)             0\n",
       "B.O.D. (mg/l)                       0\n",
       "NITRATENAN N+ NITRITENANN (mg/l)    0\n",
       "FECAL COLIFORM (MPN/100ml)          0\n",
       "TOTAL COLIFORM (MPN/100ml)Mean      0\n",
       "year                                0\n",
       "dtype: int64"
      ]
     },
     "execution_count": 11,
     "metadata": {},
     "output_type": "execute_result"
    }
   ],
   "source": [
    "data.isnull().sum()"
   ]
  },
  {
   "cell_type": "code",
   "execution_count": 12,
   "metadata": {
    "colab": {
     "base_uri": "https://localhost:8080/"
    },
    "id": "_hIyvHifdAUf",
    "outputId": "5758b0cb-c746-4c9e-a1c6-a971e3a67406"
   },
   "outputs": [
    {
     "data": {
      "text/plain": [
       "STATION CODE                        object\n",
       "LOCATIONS                           object\n",
       "STATE                               object\n",
       "Temp                                object\n",
       "D.O. (mg/l)                         object\n",
       "PH                                  object\n",
       "CONDUCTIVITY (µmhos/cm)             object\n",
       "B.O.D. (mg/l)                       object\n",
       "NITRATENAN N+ NITRITENANN (mg/l)    object\n",
       "FECAL COLIFORM (MPN/100ml)          object\n",
       "TOTAL COLIFORM (MPN/100ml)Mean      object\n",
       "year                                 int64\n",
       "dtype: object"
      ]
     },
     "execution_count": 12,
     "metadata": {},
     "output_type": "execute_result"
    }
   ],
   "source": [
    "data.dtypes"
   ]
  },
  {
   "cell_type": "code",
   "execution_count": 13,
   "metadata": {
    "colab": {
     "base_uri": "https://localhost:8080/"
    },
    "id": "ip-etKW6dF-x",
    "outputId": "d3352e4d-51ba-4a06-a7bc-683d825ee86d"
   },
   "outputs": [
    {
     "data": {
      "text/plain": [
       "STATION CODE                         object\n",
       "LOCATIONS                            object\n",
       "STATE                                object\n",
       "Temp                                float64\n",
       "D.O. (mg/l)                         float64\n",
       "PH                                  float64\n",
       "CONDUCTIVITY (µmhos/cm)             float64\n",
       "B.O.D. (mg/l)                       float64\n",
       "NITRATENAN N+ NITRITENANN (mg/l)    float64\n",
       "FECAL COLIFORM (MPN/100ml)           object\n",
       "TOTAL COLIFORM (MPN/100ml)Mean      float64\n",
       "year                                  int64\n",
       "dtype: object"
      ]
     },
     "execution_count": 13,
     "metadata": {},
     "output_type": "execute_result"
    }
   ],
   "source": [
    "data['Temp']=pd.to_numeric(data['Temp'],errors='coerce')\n",
    "data['D.O. (mg/l)']=pd.to_numeric(data['D.O. (mg/l)'],errors='coerce')\n",
    "data['PH']=pd.to_numeric(data['PH'],errors='coerce')\n",
    "data['B.O.D. (mg/l)']=pd.to_numeric(data['B.O.D. (mg/l)'],errors='coerce')\n",
    "data['CONDUCTIVITY (µmhos/cm)']=pd.to_numeric(data['CONDUCTIVITY (µmhos/cm)'],errors='coerce')\n",
    "data['NITRATENAN N+ NITRITENANN (mg/l)']=pd.to_numeric(data['NITRATENAN N+ NITRITENANN (mg/l)'],errors='coerce')\n",
    "data['TOTAL COLIFORM (MPN/100ml)Mean']=pd.to_numeric(data['TOTAL COLIFORM (MPN/100ml)Mean'],errors='coerce')\n",
    "data.dtypes"
   ]
  },
  {
   "cell_type": "code",
   "execution_count": 14,
   "metadata": {
    "colab": {
     "base_uri": "https://localhost:8080/"
    },
    "id": "5mKpkZX_dR1j",
    "outputId": "c381b259-c7e4-4cde-8617-f40c8c0a18b6"
   },
   "outputs": [
    {
     "data": {
      "text/plain": [
       "STATION CODE                          0\n",
       "LOCATIONS                             0\n",
       "STATE                                 0\n",
       "Temp                                 92\n",
       "D.O. (mg/l)                          31\n",
       "PH                                    8\n",
       "CONDUCTIVITY (µmhos/cm)              25\n",
       "B.O.D. (mg/l)                        43\n",
       "NITRATENAN N+ NITRITENANN (mg/l)    225\n",
       "FECAL COLIFORM (MPN/100ml)            0\n",
       "TOTAL COLIFORM (MPN/100ml)Mean      132\n",
       "year                                  0\n",
       "dtype: int64"
      ]
     },
     "execution_count": 14,
     "metadata": {},
     "output_type": "execute_result"
    }
   ],
   "source": [
    "data.isnull().sum()\n"
   ]
  },
  {
   "cell_type": "code",
   "execution_count": 15,
   "metadata": {
    "id": "J66iyv13db47"
   },
   "outputs": [],
   "source": [
    "data['Temp'].fillna(data['Temp'].mean(),inplace=True)\n",
    "data['D.O. (mg/l)'].fillna(data['D.O. (mg/l)'].mean(),inplace=True)\n",
    "data['PH'].fillna(data['PH'].mean(),inplace=True)\n",
    "data['CONDUCTIVITY (µmhos/cm)'].fillna(data['CONDUCTIVITY (µmhos/cm)'].mean(),inplace=True)\n",
    "data['B.O.D. (mg/l)'].fillna(data['B.O.D. (mg/l)'].mean(),inplace=True)\n",
    "data['NITRATENAN N+ NITRITENANN (mg/l)'].fillna(data['NITRATENAN N+ NITRITENANN (mg/l)'].mean(),inplace=True)\n",
    "data['TOTAL COLIFORM (MPN/100ml)Mean'].fillna(data['TOTAL COLIFORM (MPN/100ml)Mean'].mean(),inplace=True)\n"
   ]
  },
  {
   "cell_type": "code",
   "execution_count": 16,
   "metadata": {
    "id": "o10X3gJXdhFS"
   },
   "outputs": [],
   "source": [
    "data.drop([\"FECAL COLIFORM (MPN/100ml)\"],axis=1,inplace=True)"
   ]
  },
  {
   "cell_type": "code",
   "execution_count": 17,
   "metadata": {
    "id": "Ys4wgw_Ods4P"
   },
   "outputs": [],
   "source": [
    "data=data.rename(columns = {'D.O. (mg/l)': 'do'})\n",
    "data=data.rename(columns = {'CONDUCTIVITY (µmhos/cm)': 'co'})\n",
    "data=data.rename(columns = {'B.O.D. (mg/l)': 'bod'})\n",
    "data=data.rename(columns = {'NITRATENAN N+ NITRITENANN (mg/l)': 'na'})\n",
    "data=data.rename(columns = {'TOTAL COLIFORM (MPN/100ml)Mean': 'tc'})\n",
    "data=data.rename(columns = {'STATION CODE': 'station'})\n",
    "data=data.rename(columns = {'LOCATIONS': 'location'})\n",
    "data=data.rename(columns = {'STATE': 'state'})\n",
    "data=data.rename(columns = {'PH': 'ph'})"
   ]
  },
  {
   "cell_type": "markdown",
   "metadata": {
    "id": "6AiKpo-tg3Cw"
   },
   "source": [
    "**Water Quality Index (WQI) Calculation**"
   ]
  },
  {
   "cell_type": "code",
   "execution_count": 18,
   "metadata": {
    "id": "uDlX-lwMds06"
   },
   "outputs": [],
   "source": [
    "#calculation of pH\n",
    "data['npH']=data.ph.apply(lambda x: (100 if(8.5>=x>=7)\n",
    "                                else(80 if(8.6>=x>=8.5) or (6.9>=x>=6.8)\n",
    "                                  else (60 if(8.8>=x>=8.6) or (6.8>=x>=6.7)\n",
    "                                      else(40 if(9>=x>=8.8) or (6.7>=x>=6.5)\n",
    "                                          else 0)))))"
   ]
  },
  {
   "cell_type": "code",
   "execution_count": 19,
   "metadata": {
    "id": "8hRf73OvdsyS"
   },
   "outputs": [],
   "source": [
    "#calculation of dissolved oxygen\n",
    "data['ndo']=data.do.apply(lambda x: (100 if(x>=6)\n",
    "                                else(80 if(6>=x>=5.1)\n",
    "                                  else (60 if(5>=x>=4.1)\n",
    "                                      else(40 if(4>=x>=3)\n",
    "                                          else 0)))))"
   ]
  },
  {
   "cell_type": "code",
   "execution_count": 20,
   "metadata": {
    "id": "t9NiGuHFdsv8"
   },
   "outputs": [],
   "source": [
    "#calculation of total coliform\n",
    "data['nco']=data.tc.apply(lambda x: (100 if(5>=x>=0)\n",
    "                                else(80 if(50>=x>=5)\n",
    "                                  else (60 if(500>=x>=50)\n",
    "                                      else(40 if(10000>=x>=500)\n",
    "                                          else 0)))))\n"
   ]
  },
  {
   "cell_type": "code",
   "execution_count": 21,
   "metadata": {
    "id": "GNaBRhygdstS"
   },
   "outputs": [],
   "source": [
    "#calculation of B.D.O\n",
    "data['nbdo']=data.bod.apply(lambda x:(100 if(3>=x>=0)\n",
    "                                else(80 if(6>=x>=3)\n",
    "                                  else (60 if(80>=x>=6)\n",
    "                                      else(40 if(125>=x>=80)\n",
    "                                          else 0)))))"
   ]
  },
  {
   "cell_type": "code",
   "execution_count": 22,
   "metadata": {
    "id": "gbivpJxTdslC"
   },
   "outputs": [],
   "source": [
    "#calculation of electric conductivity\n",
    "data['nec']=data.co.apply(lambda x:(100 if(75>=x>=0)\n",
    "                                else(80 if(150>=x>=75)\n",
    "                                  else (60 if(225>=x>=150)\n",
    "                                      else(40 if(300>=x>=225)\n",
    "                                          else 0)))))"
   ]
  },
  {
   "cell_type": "code",
   "execution_count": 23,
   "metadata": {
    "id": "Rb5GKwkcdsZj"
   },
   "outputs": [],
   "source": [
    "#calculation of nitrate\n",
    "data['nna']=data.na.apply(lambda x:(100 if(20>=x>=0)\n",
    "                                else(80 if(50>=x>=20)\n",
    "                                  else (60 if(100>=x>=50)\n",
    "                                      else(40 if(200>=x>=100)\n",
    "                                          else 0)))))"
   ]
  },
  {
   "cell_type": "code",
   "execution_count": 24,
   "metadata": {
    "colab": {
     "base_uri": "https://localhost:8080/",
     "height": 869
    },
    "id": "UClnfZlwdsMs",
    "outputId": "220f4fa4-86b0-456b-f309-f57b99ed7281"
   },
   "outputs": [
    {
     "data": {
      "text/html": [
       "<div>\n",
       "<style scoped>\n",
       "    .dataframe tbody tr th:only-of-type {\n",
       "        vertical-align: middle;\n",
       "    }\n",
       "\n",
       "    .dataframe tbody tr th {\n",
       "        vertical-align: top;\n",
       "    }\n",
       "\n",
       "    .dataframe thead th {\n",
       "        text-align: right;\n",
       "    }\n",
       "</style>\n",
       "<table border=\"1\" class=\"dataframe\">\n",
       "  <thead>\n",
       "    <tr style=\"text-align: right;\">\n",
       "      <th></th>\n",
       "      <th>station</th>\n",
       "      <th>location</th>\n",
       "      <th>state</th>\n",
       "      <th>Temp</th>\n",
       "      <th>do</th>\n",
       "      <th>ph</th>\n",
       "      <th>co</th>\n",
       "      <th>bod</th>\n",
       "      <th>na</th>\n",
       "      <th>tc</th>\n",
       "      <th>...</th>\n",
       "      <th>nbdo</th>\n",
       "      <th>nec</th>\n",
       "      <th>nna</th>\n",
       "      <th>wph</th>\n",
       "      <th>wdo</th>\n",
       "      <th>wbdo</th>\n",
       "      <th>wec</th>\n",
       "      <th>wna</th>\n",
       "      <th>wco</th>\n",
       "      <th>wqi</th>\n",
       "    </tr>\n",
       "  </thead>\n",
       "  <tbody>\n",
       "    <tr>\n",
       "      <th>0</th>\n",
       "      <td>1393</td>\n",
       "      <td>DAMANGANGA AT D/S OF MADHUBAN, DAMAN</td>\n",
       "      <td>DAMAN &amp; DIU</td>\n",
       "      <td>30.600000</td>\n",
       "      <td>6.7</td>\n",
       "      <td>7.5</td>\n",
       "      <td>203.0</td>\n",
       "      <td>6.940049</td>\n",
       "      <td>0.100000</td>\n",
       "      <td>27.0</td>\n",
       "      <td>...</td>\n",
       "      <td>60</td>\n",
       "      <td>60</td>\n",
       "      <td>100</td>\n",
       "      <td>16.5</td>\n",
       "      <td>28.10</td>\n",
       "      <td>14.04</td>\n",
       "      <td>0.54</td>\n",
       "      <td>2.8</td>\n",
       "      <td>22.48</td>\n",
       "      <td>84.46</td>\n",
       "    </tr>\n",
       "    <tr>\n",
       "      <th>1</th>\n",
       "      <td>1399</td>\n",
       "      <td>ZUARI AT D/S OF PT. WHERE KUMBARJRIA CANAL JOI...</td>\n",
       "      <td>GOA</td>\n",
       "      <td>29.800000</td>\n",
       "      <td>5.7</td>\n",
       "      <td>7.2</td>\n",
       "      <td>189.0</td>\n",
       "      <td>2.000000</td>\n",
       "      <td>0.200000</td>\n",
       "      <td>8391.0</td>\n",
       "      <td>...</td>\n",
       "      <td>100</td>\n",
       "      <td>60</td>\n",
       "      <td>100</td>\n",
       "      <td>16.5</td>\n",
       "      <td>22.48</td>\n",
       "      <td>23.40</td>\n",
       "      <td>0.54</td>\n",
       "      <td>2.8</td>\n",
       "      <td>11.24</td>\n",
       "      <td>76.96</td>\n",
       "    </tr>\n",
       "    <tr>\n",
       "      <th>2</th>\n",
       "      <td>1475</td>\n",
       "      <td>ZUARI AT PANCHAWADI</td>\n",
       "      <td>GOA</td>\n",
       "      <td>29.500000</td>\n",
       "      <td>6.3</td>\n",
       "      <td>6.9</td>\n",
       "      <td>179.0</td>\n",
       "      <td>1.700000</td>\n",
       "      <td>0.100000</td>\n",
       "      <td>5330.0</td>\n",
       "      <td>...</td>\n",
       "      <td>100</td>\n",
       "      <td>60</td>\n",
       "      <td>100</td>\n",
       "      <td>13.2</td>\n",
       "      <td>28.10</td>\n",
       "      <td>23.40</td>\n",
       "      <td>0.54</td>\n",
       "      <td>2.8</td>\n",
       "      <td>11.24</td>\n",
       "      <td>79.28</td>\n",
       "    </tr>\n",
       "    <tr>\n",
       "      <th>3</th>\n",
       "      <td>3181</td>\n",
       "      <td>RIVER ZUARI AT BORIM BRIDGE</td>\n",
       "      <td>GOA</td>\n",
       "      <td>29.700000</td>\n",
       "      <td>5.8</td>\n",
       "      <td>6.9</td>\n",
       "      <td>64.0</td>\n",
       "      <td>3.800000</td>\n",
       "      <td>0.500000</td>\n",
       "      <td>8443.0</td>\n",
       "      <td>...</td>\n",
       "      <td>80</td>\n",
       "      <td>100</td>\n",
       "      <td>100</td>\n",
       "      <td>13.2</td>\n",
       "      <td>22.48</td>\n",
       "      <td>18.72</td>\n",
       "      <td>0.90</td>\n",
       "      <td>2.8</td>\n",
       "      <td>11.24</td>\n",
       "      <td>69.34</td>\n",
       "    </tr>\n",
       "    <tr>\n",
       "      <th>4</th>\n",
       "      <td>3182</td>\n",
       "      <td>RIVER ZUARI AT MARCAIM JETTY</td>\n",
       "      <td>GOA</td>\n",
       "      <td>29.500000</td>\n",
       "      <td>5.8</td>\n",
       "      <td>7.3</td>\n",
       "      <td>83.0</td>\n",
       "      <td>1.900000</td>\n",
       "      <td>0.400000</td>\n",
       "      <td>5500.0</td>\n",
       "      <td>...</td>\n",
       "      <td>100</td>\n",
       "      <td>80</td>\n",
       "      <td>100</td>\n",
       "      <td>16.5</td>\n",
       "      <td>22.48</td>\n",
       "      <td>23.40</td>\n",
       "      <td>0.72</td>\n",
       "      <td>2.8</td>\n",
       "      <td>11.24</td>\n",
       "      <td>77.14</td>\n",
       "    </tr>\n",
       "    <tr>\n",
       "      <th>...</th>\n",
       "      <td>...</td>\n",
       "      <td>...</td>\n",
       "      <td>...</td>\n",
       "      <td>...</td>\n",
       "      <td>...</td>\n",
       "      <td>...</td>\n",
       "      <td>...</td>\n",
       "      <td>...</td>\n",
       "      <td>...</td>\n",
       "      <td>...</td>\n",
       "      <td>...</td>\n",
       "      <td>...</td>\n",
       "      <td>...</td>\n",
       "      <td>...</td>\n",
       "      <td>...</td>\n",
       "      <td>...</td>\n",
       "      <td>...</td>\n",
       "      <td>...</td>\n",
       "      <td>...</td>\n",
       "      <td>...</td>\n",
       "      <td>...</td>\n",
       "    </tr>\n",
       "    <tr>\n",
       "      <th>1986</th>\n",
       "      <td>1330</td>\n",
       "      <td>TAMBIRAPARANI AT ARUMUGANERI, TAMILNADU</td>\n",
       "      <td>NAN</td>\n",
       "      <td>26.209814</td>\n",
       "      <td>7.9</td>\n",
       "      <td>738.0</td>\n",
       "      <td>7.2</td>\n",
       "      <td>2.700000</td>\n",
       "      <td>0.518000</td>\n",
       "      <td>202.0</td>\n",
       "      <td>...</td>\n",
       "      <td>100</td>\n",
       "      <td>100</td>\n",
       "      <td>100</td>\n",
       "      <td>0.0</td>\n",
       "      <td>28.10</td>\n",
       "      <td>23.40</td>\n",
       "      <td>0.90</td>\n",
       "      <td>2.8</td>\n",
       "      <td>16.86</td>\n",
       "      <td>72.06</td>\n",
       "    </tr>\n",
       "    <tr>\n",
       "      <th>1987</th>\n",
       "      <td>1450</td>\n",
       "      <td>PALAR AT VANIYAMBADI WATER SUPPLY HEAD WORK, T...</td>\n",
       "      <td>NAN</td>\n",
       "      <td>29.000000</td>\n",
       "      <td>7.5</td>\n",
       "      <td>585.0</td>\n",
       "      <td>6.3</td>\n",
       "      <td>2.600000</td>\n",
       "      <td>0.155000</td>\n",
       "      <td>315.0</td>\n",
       "      <td>...</td>\n",
       "      <td>100</td>\n",
       "      <td>100</td>\n",
       "      <td>100</td>\n",
       "      <td>0.0</td>\n",
       "      <td>28.10</td>\n",
       "      <td>23.40</td>\n",
       "      <td>0.90</td>\n",
       "      <td>2.8</td>\n",
       "      <td>16.86</td>\n",
       "      <td>72.06</td>\n",
       "    </tr>\n",
       "    <tr>\n",
       "      <th>1988</th>\n",
       "      <td>1403</td>\n",
       "      <td>GUMTI AT U/S SOUTH TRIPURA,TRIPURA</td>\n",
       "      <td>NAN</td>\n",
       "      <td>28.000000</td>\n",
       "      <td>7.6</td>\n",
       "      <td>98.0</td>\n",
       "      <td>6.2</td>\n",
       "      <td>1.200000</td>\n",
       "      <td>1.623079</td>\n",
       "      <td>570.0</td>\n",
       "      <td>...</td>\n",
       "      <td>100</td>\n",
       "      <td>100</td>\n",
       "      <td>100</td>\n",
       "      <td>0.0</td>\n",
       "      <td>28.10</td>\n",
       "      <td>23.40</td>\n",
       "      <td>0.90</td>\n",
       "      <td>2.8</td>\n",
       "      <td>11.24</td>\n",
       "      <td>66.44</td>\n",
       "    </tr>\n",
       "    <tr>\n",
       "      <th>1989</th>\n",
       "      <td>1404</td>\n",
       "      <td>GUMTI AT D/S SOUTH TRIPURA, TRIPURA</td>\n",
       "      <td>NAN</td>\n",
       "      <td>28.000000</td>\n",
       "      <td>7.7</td>\n",
       "      <td>91.0</td>\n",
       "      <td>6.5</td>\n",
       "      <td>1.300000</td>\n",
       "      <td>1.623079</td>\n",
       "      <td>562.0</td>\n",
       "      <td>...</td>\n",
       "      <td>100</td>\n",
       "      <td>100</td>\n",
       "      <td>100</td>\n",
       "      <td>0.0</td>\n",
       "      <td>28.10</td>\n",
       "      <td>23.40</td>\n",
       "      <td>0.90</td>\n",
       "      <td>2.8</td>\n",
       "      <td>11.24</td>\n",
       "      <td>66.44</td>\n",
       "    </tr>\n",
       "    <tr>\n",
       "      <th>1990</th>\n",
       "      <td>1726</td>\n",
       "      <td>CHANDRAPUR, AGARTALA D/S OF HAORA RIVER, TRIPURA</td>\n",
       "      <td>NAN</td>\n",
       "      <td>29.000000</td>\n",
       "      <td>7.6</td>\n",
       "      <td>110.0</td>\n",
       "      <td>5.7</td>\n",
       "      <td>1.100000</td>\n",
       "      <td>1.623079</td>\n",
       "      <td>546.0</td>\n",
       "      <td>...</td>\n",
       "      <td>100</td>\n",
       "      <td>100</td>\n",
       "      <td>100</td>\n",
       "      <td>0.0</td>\n",
       "      <td>28.10</td>\n",
       "      <td>23.40</td>\n",
       "      <td>0.90</td>\n",
       "      <td>2.8</td>\n",
       "      <td>11.24</td>\n",
       "      <td>66.44</td>\n",
       "    </tr>\n",
       "  </tbody>\n",
       "</table>\n",
       "<p>1991 rows × 24 columns</p>\n",
       "</div>"
      ],
      "text/plain": [
       "     station                                           location        state  \\\n",
       "0       1393               DAMANGANGA AT D/S OF MADHUBAN, DAMAN  DAMAN & DIU   \n",
       "1       1399  ZUARI AT D/S OF PT. WHERE KUMBARJRIA CANAL JOI...          GOA   \n",
       "2       1475                                ZUARI AT PANCHAWADI          GOA   \n",
       "3       3181                        RIVER ZUARI AT BORIM BRIDGE          GOA   \n",
       "4       3182                       RIVER ZUARI AT MARCAIM JETTY          GOA   \n",
       "...      ...                                                ...          ...   \n",
       "1986    1330            TAMBIRAPARANI AT ARUMUGANERI, TAMILNADU          NAN   \n",
       "1987    1450  PALAR AT VANIYAMBADI WATER SUPPLY HEAD WORK, T...          NAN   \n",
       "1988    1403                 GUMTI AT U/S SOUTH TRIPURA,TRIPURA          NAN   \n",
       "1989    1404                GUMTI AT D/S SOUTH TRIPURA, TRIPURA          NAN   \n",
       "1990    1726   CHANDRAPUR, AGARTALA D/S OF HAORA RIVER, TRIPURA          NAN   \n",
       "\n",
       "           Temp   do     ph     co       bod        na      tc  ...  nbdo  \\\n",
       "0     30.600000  6.7    7.5  203.0  6.940049  0.100000    27.0  ...    60   \n",
       "1     29.800000  5.7    7.2  189.0  2.000000  0.200000  8391.0  ...   100   \n",
       "2     29.500000  6.3    6.9  179.0  1.700000  0.100000  5330.0  ...   100   \n",
       "3     29.700000  5.8    6.9   64.0  3.800000  0.500000  8443.0  ...    80   \n",
       "4     29.500000  5.8    7.3   83.0  1.900000  0.400000  5500.0  ...   100   \n",
       "...         ...  ...    ...    ...       ...       ...     ...  ...   ...   \n",
       "1986  26.209814  7.9  738.0    7.2  2.700000  0.518000   202.0  ...   100   \n",
       "1987  29.000000  7.5  585.0    6.3  2.600000  0.155000   315.0  ...   100   \n",
       "1988  28.000000  7.6   98.0    6.2  1.200000  1.623079   570.0  ...   100   \n",
       "1989  28.000000  7.7   91.0    6.5  1.300000  1.623079   562.0  ...   100   \n",
       "1990  29.000000  7.6  110.0    5.7  1.100000  1.623079   546.0  ...   100   \n",
       "\n",
       "      nec  nna   wph    wdo   wbdo   wec  wna    wco    wqi  \n",
       "0      60  100  16.5  28.10  14.04  0.54  2.8  22.48  84.46  \n",
       "1      60  100  16.5  22.48  23.40  0.54  2.8  11.24  76.96  \n",
       "2      60  100  13.2  28.10  23.40  0.54  2.8  11.24  79.28  \n",
       "3     100  100  13.2  22.48  18.72  0.90  2.8  11.24  69.34  \n",
       "4      80  100  16.5  22.48  23.40  0.72  2.8  11.24  77.14  \n",
       "...   ...  ...   ...    ...    ...   ...  ...    ...    ...  \n",
       "1986  100  100   0.0  28.10  23.40  0.90  2.8  16.86  72.06  \n",
       "1987  100  100   0.0  28.10  23.40  0.90  2.8  16.86  72.06  \n",
       "1988  100  100   0.0  28.10  23.40  0.90  2.8  11.24  66.44  \n",
       "1989  100  100   0.0  28.10  23.40  0.90  2.8  11.24  66.44  \n",
       "1990  100  100   0.0  28.10  23.40  0.90  2.8  11.24  66.44  \n",
       "\n",
       "[1991 rows x 24 columns]"
      ]
     },
     "execution_count": 24,
     "metadata": {},
     "output_type": "execute_result"
    }
   ],
   "source": [
    "#Calculation of Water Quality Index WQI\n",
    "data['wph']=data.npH*0.165\n",
    "data['wdo']=data.ndo*0.281\n",
    "data['wbdo']=data.nbdo*0.234\n",
    "data['wec']=data.nec*0.009\n",
    "data['wna']=data.nna*0.028\n",
    "data['wco']=data.nco*0.281\n",
    "data['wqi']=data.wph+data.wdo+data.wbdo+data.wec+data.wna+data.wco\n",
    "data\n"
   ]
  },
  {
   "cell_type": "code",
   "execution_count": 25,
   "metadata": {
    "colab": {
     "base_uri": "https://localhost:8080/"
    },
    "id": "mByFutY5eXuu",
    "outputId": "a5dd296c-7fde-4eb0-fa3c-2da0c4ffd769"
   },
   "outputs": [
    {
     "data": {
      "text/plain": [
       "year\n",
       "2003    66.239545\n",
       "2004    61.290000\n",
       "2005    73.762689\n",
       "2006    72.909714\n",
       "2007    74.233000\n",
       "Name: wqi, dtype: float64"
      ]
     },
     "execution_count": 25,
     "metadata": {},
     "output_type": "execute_result"
    }
   ],
   "source": [
    "#Calculation of overall WQI for each year\n",
    "average = data.groupby('year')['wqi'].mean()\n",
    "average.head()"
   ]
  },
  {
   "cell_type": "markdown",
   "metadata": {
    "id": "FLrOvc1hgk4z"
   },
   "source": [
    "**Splitting Dependent and Independent Columns**"
   ]
  },
  {
   "cell_type": "code",
   "execution_count": 26,
   "metadata": {
    "id": "PgwlJhHCeXra"
   },
   "outputs": [],
   "source": [
    "data.head()\n",
    "data.drop(['location','station','state'],axis =1,inplace=True)"
   ]
  },
  {
   "cell_type": "code",
   "execution_count": 27,
   "metadata": {
    "colab": {
     "base_uri": "https://localhost:8080/",
     "height": 235
    },
    "id": "F-u1tYdYeXmy",
    "outputId": "0f4ced43-f73b-4691-f65d-0117b8cb932f"
   },
   "outputs": [
    {
     "data": {
      "text/html": [
       "<div>\n",
       "<style scoped>\n",
       "    .dataframe tbody tr th:only-of-type {\n",
       "        vertical-align: middle;\n",
       "    }\n",
       "\n",
       "    .dataframe tbody tr th {\n",
       "        vertical-align: top;\n",
       "    }\n",
       "\n",
       "    .dataframe thead th {\n",
       "        text-align: right;\n",
       "    }\n",
       "</style>\n",
       "<table border=\"1\" class=\"dataframe\">\n",
       "  <thead>\n",
       "    <tr style=\"text-align: right;\">\n",
       "      <th></th>\n",
       "      <th>Temp</th>\n",
       "      <th>do</th>\n",
       "      <th>ph</th>\n",
       "      <th>co</th>\n",
       "      <th>bod</th>\n",
       "      <th>na</th>\n",
       "      <th>tc</th>\n",
       "      <th>year</th>\n",
       "      <th>npH</th>\n",
       "      <th>ndo</th>\n",
       "      <th>...</th>\n",
       "      <th>nbdo</th>\n",
       "      <th>nec</th>\n",
       "      <th>nna</th>\n",
       "      <th>wph</th>\n",
       "      <th>wdo</th>\n",
       "      <th>wbdo</th>\n",
       "      <th>wec</th>\n",
       "      <th>wna</th>\n",
       "      <th>wco</th>\n",
       "      <th>wqi</th>\n",
       "    </tr>\n",
       "  </thead>\n",
       "  <tbody>\n",
       "    <tr>\n",
       "      <th>0</th>\n",
       "      <td>30.6</td>\n",
       "      <td>6.7</td>\n",
       "      <td>7.5</td>\n",
       "      <td>203.0</td>\n",
       "      <td>6.940049</td>\n",
       "      <td>0.1</td>\n",
       "      <td>27.0</td>\n",
       "      <td>2014</td>\n",
       "      <td>100</td>\n",
       "      <td>100</td>\n",
       "      <td>...</td>\n",
       "      <td>60</td>\n",
       "      <td>60</td>\n",
       "      <td>100</td>\n",
       "      <td>16.5</td>\n",
       "      <td>28.10</td>\n",
       "      <td>14.04</td>\n",
       "      <td>0.54</td>\n",
       "      <td>2.8</td>\n",
       "      <td>22.48</td>\n",
       "      <td>84.46</td>\n",
       "    </tr>\n",
       "    <tr>\n",
       "      <th>1</th>\n",
       "      <td>29.8</td>\n",
       "      <td>5.7</td>\n",
       "      <td>7.2</td>\n",
       "      <td>189.0</td>\n",
       "      <td>2.000000</td>\n",
       "      <td>0.2</td>\n",
       "      <td>8391.0</td>\n",
       "      <td>2014</td>\n",
       "      <td>100</td>\n",
       "      <td>80</td>\n",
       "      <td>...</td>\n",
       "      <td>100</td>\n",
       "      <td>60</td>\n",
       "      <td>100</td>\n",
       "      <td>16.5</td>\n",
       "      <td>22.48</td>\n",
       "      <td>23.40</td>\n",
       "      <td>0.54</td>\n",
       "      <td>2.8</td>\n",
       "      <td>11.24</td>\n",
       "      <td>76.96</td>\n",
       "    </tr>\n",
       "    <tr>\n",
       "      <th>2</th>\n",
       "      <td>29.5</td>\n",
       "      <td>6.3</td>\n",
       "      <td>6.9</td>\n",
       "      <td>179.0</td>\n",
       "      <td>1.700000</td>\n",
       "      <td>0.1</td>\n",
       "      <td>5330.0</td>\n",
       "      <td>2014</td>\n",
       "      <td>80</td>\n",
       "      <td>100</td>\n",
       "      <td>...</td>\n",
       "      <td>100</td>\n",
       "      <td>60</td>\n",
       "      <td>100</td>\n",
       "      <td>13.2</td>\n",
       "      <td>28.10</td>\n",
       "      <td>23.40</td>\n",
       "      <td>0.54</td>\n",
       "      <td>2.8</td>\n",
       "      <td>11.24</td>\n",
       "      <td>79.28</td>\n",
       "    </tr>\n",
       "    <tr>\n",
       "      <th>3</th>\n",
       "      <td>29.7</td>\n",
       "      <td>5.8</td>\n",
       "      <td>6.9</td>\n",
       "      <td>64.0</td>\n",
       "      <td>3.800000</td>\n",
       "      <td>0.5</td>\n",
       "      <td>8443.0</td>\n",
       "      <td>2014</td>\n",
       "      <td>80</td>\n",
       "      <td>80</td>\n",
       "      <td>...</td>\n",
       "      <td>80</td>\n",
       "      <td>100</td>\n",
       "      <td>100</td>\n",
       "      <td>13.2</td>\n",
       "      <td>22.48</td>\n",
       "      <td>18.72</td>\n",
       "      <td>0.90</td>\n",
       "      <td>2.8</td>\n",
       "      <td>11.24</td>\n",
       "      <td>69.34</td>\n",
       "    </tr>\n",
       "    <tr>\n",
       "      <th>4</th>\n",
       "      <td>29.5</td>\n",
       "      <td>5.8</td>\n",
       "      <td>7.3</td>\n",
       "      <td>83.0</td>\n",
       "      <td>1.900000</td>\n",
       "      <td>0.4</td>\n",
       "      <td>5500.0</td>\n",
       "      <td>2014</td>\n",
       "      <td>100</td>\n",
       "      <td>80</td>\n",
       "      <td>...</td>\n",
       "      <td>100</td>\n",
       "      <td>80</td>\n",
       "      <td>100</td>\n",
       "      <td>16.5</td>\n",
       "      <td>22.48</td>\n",
       "      <td>23.40</td>\n",
       "      <td>0.72</td>\n",
       "      <td>2.8</td>\n",
       "      <td>11.24</td>\n",
       "      <td>77.14</td>\n",
       "    </tr>\n",
       "  </tbody>\n",
       "</table>\n",
       "<p>5 rows × 21 columns</p>\n",
       "</div>"
      ],
      "text/plain": [
       "   Temp   do   ph     co       bod   na      tc  year  npH  ndo  ...  nbdo  \\\n",
       "0  30.6  6.7  7.5  203.0  6.940049  0.1    27.0  2014  100  100  ...    60   \n",
       "1  29.8  5.7  7.2  189.0  2.000000  0.2  8391.0  2014  100   80  ...   100   \n",
       "2  29.5  6.3  6.9  179.0  1.700000  0.1  5330.0  2014   80  100  ...   100   \n",
       "3  29.7  5.8  6.9   64.0  3.800000  0.5  8443.0  2014   80   80  ...    80   \n",
       "4  29.5  5.8  7.3   83.0  1.900000  0.4  5500.0  2014  100   80  ...   100   \n",
       "\n",
       "   nec  nna   wph    wdo   wbdo   wec  wna    wco    wqi  \n",
       "0   60  100  16.5  28.10  14.04  0.54  2.8  22.48  84.46  \n",
       "1   60  100  16.5  22.48  23.40  0.54  2.8  11.24  76.96  \n",
       "2   60  100  13.2  28.10  23.40  0.54  2.8  11.24  79.28  \n",
       "3  100  100  13.2  22.48  18.72  0.90  2.8  11.24  69.34  \n",
       "4   80  100  16.5  22.48  23.40  0.72  2.8  11.24  77.14  \n",
       "\n",
       "[5 rows x 21 columns]"
      ]
     },
     "execution_count": 27,
     "metadata": {},
     "output_type": "execute_result"
    }
   ],
   "source": [
    "data.head()"
   ]
  },
  {
   "cell_type": "code",
   "execution_count": 28,
   "metadata": {
    "colab": {
     "base_uri": "https://localhost:8080/"
    },
    "id": "zEoHdGaXeXjp",
    "outputId": "bcf94160-a141-4f53-fd5f-6a818499d1fd"
   },
   "outputs": [
    {
     "data": {
      "text/plain": [
       "(1991, 7)"
      ]
     },
     "execution_count": 28,
     "metadata": {},
     "output_type": "execute_result"
    }
   ],
   "source": [
    "x=data.iloc[:,0:7].values\n",
    "x.shape"
   ]
  },
  {
   "cell_type": "code",
   "execution_count": 29,
   "metadata": {
    "colab": {
     "base_uri": "https://localhost:8080/"
    },
    "id": "EDX7fYt_eXgQ",
    "outputId": "cde5a321-131f-44e2-f600-0703df41935f"
   },
   "outputs": [
    {
     "data": {
      "text/plain": [
       "(1991, 1)"
      ]
     },
     "execution_count": 29,
     "metadata": {},
     "output_type": "execute_result"
    }
   ],
   "source": [
    "y=data.iloc[:,-1:].values\n",
    "y.shape"
   ]
  },
  {
   "cell_type": "code",
   "execution_count": 30,
   "metadata": {
    "colab": {
     "base_uri": "https://localhost:8080/"
    },
    "id": "S3df4m1ZeXdk",
    "outputId": "1f5cd783-d1c7-4b72-d402-27e726cf388e"
   },
   "outputs": [
    {
     "name": "stdout",
     "output_type": "stream",
     "text": [
      "[[3.06000000e+01 6.70000000e+00 7.50000000e+00 ... 6.94004877e+00\n",
      "  1.00000000e-01 2.70000000e+01]\n",
      " [2.98000000e+01 5.70000000e+00 7.20000000e+00 ... 2.00000000e+00\n",
      "  2.00000000e-01 8.39100000e+03]\n",
      " [2.95000000e+01 6.30000000e+00 6.90000000e+00 ... 1.70000000e+00\n",
      "  1.00000000e-01 5.33000000e+03]\n",
      " ...\n",
      " [2.80000000e+01 7.60000000e+00 9.80000000e+01 ... 1.20000000e+00\n",
      "  1.62307871e+00 5.70000000e+02]\n",
      " [2.80000000e+01 7.70000000e+00 9.10000000e+01 ... 1.30000000e+00\n",
      "  1.62307871e+00 5.62000000e+02]\n",
      " [2.90000000e+01 7.60000000e+00 1.10000000e+02 ... 1.10000000e+00\n",
      "  1.62307871e+00 5.46000000e+02]]\n"
     ]
    }
   ],
   "source": [
    "print(x)"
   ]
  },
  {
   "cell_type": "code",
   "execution_count": 31,
   "metadata": {
    "colab": {
     "base_uri": "https://localhost:8080/"
    },
    "id": "em6YAjs5eXaI",
    "outputId": "0a6716b3-e03f-4602-c255-243bfc7051b7"
   },
   "outputs": [
    {
     "name": "stdout",
     "output_type": "stream",
     "text": [
      "[[84.46]\n",
      " [76.96]\n",
      " [79.28]\n",
      " ...\n",
      " [66.44]\n",
      " [66.44]\n",
      " [66.44]]\n"
     ]
    }
   ],
   "source": [
    "print(y)\n"
   ]
  },
  {
   "cell_type": "markdown",
   "metadata": {
    "id": "IDmXco_HgYwA"
   },
   "source": [
    "**Splitting the Data Into Train and Test**"
   ]
  },
  {
   "cell_type": "code",
   "execution_count": 32,
   "metadata": {
    "id": "gHBRMBlNe34j"
   },
   "outputs": [],
   "source": [
    "from sklearn.model_selection import train_test_split\n",
    "x_train,x_test,y_train,y_test = train_test_split(x,y,test_size = 0.2,random_state=10)"
   ]
  },
  {
   "cell_type": "markdown",
   "metadata": {
    "id": "QKDd5XXXgTqJ"
   },
   "source": [
    "**Random_Forest_Regression**"
   ]
  },
  {
   "cell_type": "code",
   "execution_count": 33,
   "metadata": {
    "id": "sHLK2doye3oK"
   },
   "outputs": [],
   "source": [
    "#Feature Scaling\n",
    "from sklearn.preprocessing import StandardScaler\n",
    "sc = StandardScaler()\n",
    "x_train = sc.fit_transform(x_train)\n",
    "x_test = sc.transform(x_test)\n"
   ]
  },
  {
   "cell_type": "code",
   "execution_count": 34,
   "metadata": {
    "colab": {
     "base_uri": "https://localhost:8080/"
    },
    "id": "UXd74game3cF",
    "outputId": "bdb38d51-90f9-45b4-b1a0-d2ee3e4f7551"
   },
   "outputs": [
    {
     "name": "stderr",
     "output_type": "stream",
     "text": [
      "/tmp/wsuser/ipykernel_164/3869103801.py:3: DataConversionWarning: A column-vector y was passed when a 1d array was expected. Please change the shape of y to (n_samples,), for example using ravel().\n",
      "  regressor.fit(x_train, y_train)\n"
     ]
    }
   ],
   "source": [
    "from sklearn.ensemble import RandomForestRegressor\n",
    "regressor = RandomForestRegressor(n_estimators = 10, random_state = 0)\n",
    "regressor.fit(x_train, y_train)\n",
    "y_pred = regressor.predict(x_test)"
   ]
  },
  {
   "cell_type": "markdown",
   "metadata": {
    "id": "IJvQKBMhgKLo"
   },
   "source": [
    "**Model Evaluation**"
   ]
  },
  {
   "cell_type": "code",
   "execution_count": 35,
   "metadata": {
    "colab": {
     "base_uri": "https://localhost:8080/"
    },
    "id": "8-W7NLMceXXW",
    "outputId": "9c2eee01-bfc2-4e42-dde2-fa4a9a3d9ec1"
   },
   "outputs": [
    {
     "name": "stdout",
     "output_type": "stream",
     "text": [
      "MAE: 1.0140200501253205\n",
      "MSE: 5.786707157894741\n",
      "RMSE: 2.405557556554143\n"
     ]
    }
   ],
   "source": [
    "from sklearn import metrics\n",
    "print('MAE:',metrics.mean_absolute_error(y_test,y_pred))\n",
    "print('MSE:',metrics.mean_squared_error(y_test,y_pred))\n",
    "print('RMSE:',np.sqrt(metrics.mean_squared_error(y_test,y_pred)))"
   ]
  },
  {
   "cell_type": "code",
   "execution_count": 36,
   "metadata": {
    "colab": {
     "base_uri": "https://localhost:8080/"
    },
    "id": "M2UGZpJ2eXTd",
    "outputId": "7e9d1e5c-54ee-4ca8-8a6c-a196b8434cb8"
   },
   "outputs": [
    {
     "data": {
      "text/plain": [
       "0.9684566685516488"
      ]
     },
     "execution_count": 36,
     "metadata": {},
     "output_type": "execute_result"
    }
   ],
   "source": [
    "metrics.r2_score(y_test, y_pred)"
   ]
  },
  {
   "cell_type": "markdown",
   "metadata": {
    "id": "qw45ePyAf2V9"
   },
   "source": [
    "**Save The Model** \n"
   ]
  },
  {
   "cell_type": "code",
   "execution_count": 37,
   "metadata": {
    "id": "oBC6gKTxdr4c"
   },
   "outputs": [],
   "source": [
    "import pickle\n",
    "pickle.dump(regressor,open('wqi.pkl', 'wb'))\n",
    "model = pickle.load(open('wqi.pkl','rb'))"
   ]
  },
  {
   "cell_type": "code",
   "execution_count": 38,
   "metadata": {},
   "outputs": [],
   "source": [
    "import pickle\n",
    "pickle.dump(regressor,open(\"model.pkl\",\"wb\"))\n"
   ]
  },
  {
   "cell_type": "code",
   "execution_count": 39,
   "metadata": {},
   "outputs": [
    {
     "data": {
      "text/plain": [
       "'/home/wsuser/work'"
      ]
     },
     "execution_count": 39,
     "metadata": {},
     "output_type": "execute_result"
    }
   ],
   "source": [
    "pwd"
   ]
  },
  {
   "cell_type": "code",
   "execution_count": 40,
   "metadata": {},
   "outputs": [
    {
     "name": "stdout",
     "output_type": "stream",
     "text": [
      "Requirement already satisfied: ibm-watson-machine-learning in /opt/conda/envs/Python-3.9/lib/python3.9/site-packages (1.0.257)\n",
      "Requirement already satisfied: requests in /opt/conda/envs/Python-3.9/lib/python3.9/site-packages (from ibm-watson-machine-learning) (2.26.0)\n",
      "Requirement already satisfied: importlib-metadata in /opt/conda/envs/Python-3.9/lib/python3.9/site-packages (from ibm-watson-machine-learning) (4.8.2)\n",
      "Requirement already satisfied: certifi in /opt/conda/envs/Python-3.9/lib/python3.9/site-packages (from ibm-watson-machine-learning) (2022.9.24)\n",
      "Requirement already satisfied: packaging in /opt/conda/envs/Python-3.9/lib/python3.9/site-packages (from ibm-watson-machine-learning) (21.3)\n",
      "Requirement already satisfied: pandas<1.5.0,>=0.24.2 in /opt/conda/envs/Python-3.9/lib/python3.9/site-packages (from ibm-watson-machine-learning) (1.3.4)\n",
      "Requirement already satisfied: lomond in /opt/conda/envs/Python-3.9/lib/python3.9/site-packages (from ibm-watson-machine-learning) (0.3.3)\n",
      "Requirement already satisfied: tabulate in /opt/conda/envs/Python-3.9/lib/python3.9/site-packages (from ibm-watson-machine-learning) (0.8.9)\n",
      "Requirement already satisfied: urllib3 in /opt/conda/envs/Python-3.9/lib/python3.9/site-packages (from ibm-watson-machine-learning) (1.26.7)\n",
      "Requirement already satisfied: ibm-cos-sdk==2.11.* in /opt/conda/envs/Python-3.9/lib/python3.9/site-packages (from ibm-watson-machine-learning) (2.11.0)\n",
      "Requirement already satisfied: ibm-cos-sdk-core==2.11.0 in /opt/conda/envs/Python-3.9/lib/python3.9/site-packages (from ibm-cos-sdk==2.11.*->ibm-watson-machine-learning) (2.11.0)\n",
      "Requirement already satisfied: jmespath<1.0.0,>=0.7.1 in /opt/conda/envs/Python-3.9/lib/python3.9/site-packages (from ibm-cos-sdk==2.11.*->ibm-watson-machine-learning) (0.10.0)\n",
      "Requirement already satisfied: ibm-cos-sdk-s3transfer==2.11.0 in /opt/conda/envs/Python-3.9/lib/python3.9/site-packages (from ibm-cos-sdk==2.11.*->ibm-watson-machine-learning) (2.11.0)\n",
      "Requirement already satisfied: python-dateutil<3.0.0,>=2.1 in /opt/conda/envs/Python-3.9/lib/python3.9/site-packages (from ibm-cos-sdk-core==2.11.0->ibm-cos-sdk==2.11.*->ibm-watson-machine-learning) (2.8.2)\n",
      "Requirement already satisfied: pytz>=2017.3 in /opt/conda/envs/Python-3.9/lib/python3.9/site-packages (from pandas<1.5.0,>=0.24.2->ibm-watson-machine-learning) (2021.3)\n",
      "Requirement already satisfied: numpy>=1.17.3 in /opt/conda/envs/Python-3.9/lib/python3.9/site-packages (from pandas<1.5.0,>=0.24.2->ibm-watson-machine-learning) (1.20.3)\n",
      "Requirement already satisfied: six>=1.5 in /opt/conda/envs/Python-3.9/lib/python3.9/site-packages (from python-dateutil<3.0.0,>=2.1->ibm-cos-sdk-core==2.11.0->ibm-cos-sdk==2.11.*->ibm-watson-machine-learning) (1.15.0)\n",
      "Requirement already satisfied: idna<4,>=2.5 in /opt/conda/envs/Python-3.9/lib/python3.9/site-packages (from requests->ibm-watson-machine-learning) (3.3)\n",
      "Requirement already satisfied: charset-normalizer~=2.0.0 in /opt/conda/envs/Python-3.9/lib/python3.9/site-packages (from requests->ibm-watson-machine-learning) (2.0.4)\n",
      "Requirement already satisfied: zipp>=0.5 in /opt/conda/envs/Python-3.9/lib/python3.9/site-packages (from importlib-metadata->ibm-watson-machine-learning) (3.6.0)\n",
      "Requirement already satisfied: pyparsing!=3.0.5,>=2.0.2 in /opt/conda/envs/Python-3.9/lib/python3.9/site-packages (from packaging->ibm-watson-machine-learning) (3.0.4)\n"
     ]
    }
   ],
   "source": [
    "!pip install -U ibm-watson-machine-learning"
   ]
  },
  {
   "cell_type": "code",
   "execution_count": 41,
   "metadata": {},
   "outputs": [],
   "source": [
    "from ibm_watson_machine_learning import APIClient\n",
    "import json\n",
    "import numpy as np"
   ]
  },
  {
   "cell_type": "code",
   "execution_count": 62,
   "metadata": {},
   "outputs": [],
   "source": [
    "wml_credentials={\n",
    "    \"apikey\":\"_UyAqLtix8uhkka14ckfH9XGQdi9G9zozJyEPWjNCwYX\",\n",
    "    \"url\": \"https://us-south.ml.cloud.ibm.com\"\n",
    "\n",
    "}"
   ]
  },
  {
   "cell_type": "code",
   "execution_count": 64,
   "metadata": {
    "scrolled": true
   },
   "outputs": [
    {
     "name": "stdout",
     "output_type": "stream",
     "text": [
      "Note: 'limit' is not provided. Only first 50 records will be displayed if the number of records exceed 50\n",
      "------------------------------------  ----  ------------------------\n",
      "ID                                    NAME  CREATED\n",
      "062af0ec-8f2f-44f6-a043-008c96534e99  ece   2022-11-12T07:03:19.346Z\n",
      "------------------------------------  ----  ------------------------\n"
     ]
    }
   ],
   "source": [
    "wml_client = APIClient(wml_credentials)\n",
    "wml_client.spaces.list()"
   ]
  },
  {
   "cell_type": "code",
   "execution_count": 65,
   "metadata": {},
   "outputs": [],
   "source": [
    "SPACE_ID=\"062af0ec-8f2f-44f6-a043-008c96534e99\""
   ]
  },
  {
   "cell_type": "code",
   "execution_count": 66,
   "metadata": {},
   "outputs": [
    {
     "data": {
      "text/plain": [
       "'SUCCESS'"
      ]
     },
     "execution_count": 66,
     "metadata": {},
     "output_type": "execute_result"
    }
   ],
   "source": [
    "wml_client .set.default_space(SPACE_ID)"
   ]
  },
  {
   "cell_type": "code",
   "execution_count": 67,
   "metadata": {},
   "outputs": [
    {
     "name": "stdout",
     "output_type": "stream",
     "text": [
      "-------------------------------  ------------------------------------  ----\n",
      "NAME                             ASSET_ID                              TYPE\n",
      "default_py3.6                    0062b8c9-8b7d-44a0-a9b9-46c416adcbd9  base\n",
      "kernel-spark3.2-scala2.12        020d69ce-7ac1-5e68-ac1a-31189867356a  base\n",
      "pytorch-onnx_1.3-py3.7-edt       069ea134-3346-5748-b513-49120e15d288  base\n",
      "scikit-learn_0.20-py3.6          09c5a1d0-9c1e-4473-a344-eb7b665ff687  base\n",
      "spark-mllib_3.0-scala_2.12       09f4cff0-90a7-5899-b9ed-1ef348aebdee  base\n",
      "pytorch-onnx_rt22.1-py3.9        0b848dd4-e681-5599-be41-b5f6fccc6471  base\n",
      "ai-function_0.1-py3.6            0cdb0f1e-5376-4f4d-92dd-da3b69aa9bda  base\n",
      "shiny-r3.6                       0e6e79df-875e-4f24-8ae9-62dcc2148306  base\n",
      "tensorflow_2.4-py3.7-horovod     1092590a-307d-563d-9b62-4eb7d64b3f22  base\n",
      "pytorch_1.1-py3.6                10ac12d6-6b30-4ccd-8392-3e922c096a92  base\n",
      "tensorflow_1.15-py3.6-ddl        111e41b3-de2d-5422-a4d6-bf776828c4b7  base\n",
      "autoai-kb_rt22.2-py3.10          125b6d9a-5b1f-5e8d-972a-b251688ccf40  base\n",
      "runtime-22.1-py3.9               12b83a17-24d8-5082-900f-0ab31fbfd3cb  base\n",
      "scikit-learn_0.22-py3.6          154010fa-5b3b-4ac1-82af-4d5ee5abbc85  base\n",
      "default_r3.6                     1b70aec3-ab34-4b87-8aa0-a4a3c8296a36  base\n",
      "pytorch-onnx_1.3-py3.6           1bc6029a-cc97-56da-b8e0-39c3880dbbe7  base\n",
      "kernel-spark3.3-r3.6             1c9e5454-f216-59dd-a20e-474a5cdf5988  base\n",
      "pytorch-onnx_rt22.1-py3.9-edt    1d362186-7ad5-5b59-8b6c-9d0880bde37f  base\n",
      "tensorflow_2.1-py3.6             1eb25b84-d6ed-5dde-b6a5-3fbdf1665666  base\n",
      "spark-mllib_3.2                  20047f72-0a98-58c7-9ff5-a77b012eb8f5  base\n",
      "tensorflow_2.4-py3.8-horovod     217c16f6-178f-56bf-824a-b19f20564c49  base\n",
      "runtime-22.1-py3.9-cuda          26215f05-08c3-5a41-a1b0-da66306ce658  base\n",
      "do_py3.8                         295addb5-9ef9-547e-9bf4-92ae3563e720  base\n",
      "autoai-ts_3.8-py3.8              2aa0c932-798f-5ae9-abd6-15e0c2402fb5  base\n",
      "tensorflow_1.15-py3.6            2b73a275-7cbf-420b-a912-eae7f436e0bc  base\n",
      "kernel-spark3.3-py3.9            2b7961e2-e3b1-5a8c-a491-482c8368839a  base\n",
      "pytorch_1.2-py3.6                2c8ef57d-2687-4b7d-acce-01f94976dac1  base\n",
      "spark-mllib_2.3                  2e51f700-bca0-4b0d-88dc-5c6791338875  base\n",
      "pytorch-onnx_1.1-py3.6-edt       32983cea-3f32-4400-8965-dde874a8d67e  base\n",
      "spark-mllib_3.0-py37             36507ebe-8770-55ba-ab2a-eafe787600e9  base\n",
      "spark-mllib_2.4                  390d21f8-e58b-4fac-9c55-d7ceda621326  base\n",
      "autoai-ts_rt22.2-py3.10          396b2e83-0953-5b86-9a55-7ce1628a406f  base\n",
      "xgboost_0.82-py3.6               39e31acd-5f30-41dc-ae44-60233c80306e  base\n",
      "pytorch-onnx_1.2-py3.6-edt       40589d0e-7019-4e28-8daa-fb03b6f4fe12  base\n",
      "pytorch-onnx_rt22.2-py3.10       40e73f55-783a-5535-b3fa-0c8b94291431  base\n",
      "default_r36py38                  41c247d3-45f8-5a71-b065-8580229facf0  base\n",
      "autoai-ts_rt22.1-py3.9           4269d26e-07ba-5d40-8f66-2d495b0c71f7  base\n",
      "autoai-obm_3.0                   42b92e18-d9ab-567f-988a-4240ba1ed5f7  base\n",
      "pmml-3.0_4.3                     493bcb95-16f1-5bc5-bee8-81b8af80e9c7  base\n",
      "spark-mllib_2.4-r_3.6            49403dff-92e9-4c87-a3d7-a42d0021c095  base\n",
      "xgboost_0.90-py3.6               4ff8d6c2-1343-4c18-85e1-689c965304d3  base\n",
      "pytorch-onnx_1.1-py3.6           50f95b2a-bc16-43bb-bc94-b0bed208c60b  base\n",
      "autoai-ts_3.9-py3.8              52c57136-80fa-572e-8728-a5e7cbb42cde  base\n",
      "spark-mllib_2.4-scala_2.11       55a70f99-7320-4be5-9fb9-9edb5a443af5  base\n",
      "spark-mllib_3.0                  5c1b0ca2-4977-5c2e-9439-ffd44ea8ffe9  base\n",
      "autoai-obm_2.0                   5c2e37fa-80b8-5e77-840f-d912469614ee  base\n",
      "spss-modeler_18.1                5c3cad7e-507f-4b2a-a9a3-ab53a21dee8b  base\n",
      "cuda-py3.8                       5d3232bf-c86b-5df4-a2cd-7bb870a1cd4e  base\n",
      "autoai-kb_3.1-py3.7              632d4b22-10aa-5180-88f0-f52dfb6444d7  base\n",
      "pytorch-onnx_1.7-py3.8           634d3cdc-b562-5bf9-a2d4-ea90a478456b  base\n",
      "spark-mllib_2.3-r_3.6            6586b9e3-ccd6-4f92-900f-0f8cb2bd6f0c  base\n",
      "tensorflow_2.4-py3.7             65e171d7-72d1-55d9-8ebb-f813d620c9bb  base\n",
      "spss-modeler_18.2                687eddc9-028a-4117-b9dd-e57b36f1efa5  base\n",
      "pytorch-onnx_1.2-py3.6           692a6a4d-2c4d-45ff-a1ed-b167ee55469a  base\n",
      "spark-mllib_2.3-scala_2.11       7963efe5-bbec-417e-92cf-0574e21b4e8d  base\n",
      "spark-mllib_2.4-py37             7abc992b-b685-532b-a122-a396a3cdbaab  base\n",
      "caffe_1.0-py3.6                  7bb3dbe2-da6e-4145-918d-b6d84aa93b6b  base\n",
      "pytorch-onnx_1.7-py3.7           812c6631-42b7-5613-982b-02098e6c909c  base\n",
      "cuda-py3.6                       82c79ece-4d12-40e6-8787-a7b9e0f62770  base\n",
      "tensorflow_1.15-py3.6-horovod    8964680e-d5e4-5bb8-919b-8342c6c0dfd8  base\n",
      "hybrid_0.1                       8c1a58c6-62b5-4dc4-987a-df751c2756b6  base\n",
      "pytorch-onnx_1.3-py3.7           8d5d8a87-a912-54cf-81ec-3914adaa988d  base\n",
      "caffe-ibm_1.0-py3.6              8d863266-7927-4d1e-97d7-56a7f4c0a19b  base\n",
      "spss-modeler_17.1                902d0051-84bd-4af6-ab6b-8f6aa6fdeabb  base\n",
      "do_12.10                         9100fd72-8159-4eb9-8a0b-a87e12eefa36  base\n",
      "do_py3.7                         9447fa8b-2051-4d24-9eef-5acb0e3c59f8  base\n",
      "spark-mllib_3.0-r_3.6            94bb6052-c837-589d-83f1-f4142f219e32  base\n",
      "cuda-py3.7-opence                94e9652b-7f2d-59d5-ba5a-23a414ea488f  base\n",
      "nlp-py3.8                        96e60351-99d4-5a1c-9cc0-473ac1b5a864  base\n",
      "cuda-py3.7                       9a44990c-1aa1-4c7d-baf8-c4099011741c  base\n",
      "hybrid_0.2                       9b3f9040-9cee-4ead-8d7a-780600f542f7  base\n",
      "spark-mllib_3.0-py38             9f7a8fc1-4d3c-5e65-ab90-41fa8de2d418  base\n",
      "autoai-kb_3.3-py3.7              a545cca3-02df-5c61-9e88-998b09dc79af  base\n",
      "spark-mllib_3.0-py39             a6082a27-5acc-5163-b02c-6b96916eb5e0  base\n",
      "runtime-22.1-py3.9-do            a7e7dbf1-1d03-5544-994d-e5ec845ce99a  base\n",
      "default_py3.8                    ab9e1b80-f2ce-592c-a7d2-4f2344f77194  base\n",
      "tensorflow_rt22.1-py3.9          acd9c798-6974-5d2f-a657-ce06e986df4d  base\n",
      "kernel-spark3.2-py3.9            ad7033ee-794e-58cf-812e-a95f4b64b207  base\n",
      "autoai-obm_2.0 with Spark 3.0    af10f35f-69fa-5d66-9bf5-acb58434263a  base\n",
      "default_py3.7_opence             c2057dd4-f42c-5f77-a02f-72bdbd3282c9  base\n",
      "tensorflow_2.1-py3.7             c4032338-2a40-500a-beef-b01ab2667e27  base\n",
      "do_py3.7_opence                  cc8f8976-b74a-551a-bb66-6377f8d865b4  base\n",
      "spark-mllib_3.3                  d11f2434-4fc7-58b7-8a62-755da64fdaf8  base\n",
      "autoai-kb_3.0-py3.6              d139f196-e04b-5d8b-9140-9a10ca1fa91a  base\n",
      "spark-mllib_3.0-py36             d82546d5-dd78-5fbb-9131-2ec309bc56ed  base\n",
      "autoai-kb_3.4-py3.8              da9b39c3-758c-5a4f-9cfd-457dd4d8c395  base\n",
      "kernel-spark3.2-r3.6             db2fe4d6-d641-5d05-9972-73c654c60e0a  base\n",
      "autoai-kb_rt22.1-py3.9           db6afe93-665f-5910-b117-d879897404d9  base\n",
      "tensorflow_rt22.1-py3.9-horovod  dda170cc-ca67-5da7-9b7a-cf84c6987fae  base\n",
      "autoai-ts_1.0-py3.7              deef04f0-0c42-5147-9711-89f9904299db  base\n",
      "tensorflow_2.1-py3.7-horovod     e384fce5-fdd1-53f8-bc71-11326c9c635f  base\n",
      "default_py3.7                    e4429883-c883-42b6-87a8-f419d64088cd  base\n",
      "do_22.1                          e51999ba-6452-5f1f-8287-17228b88b652  base\n",
      "autoai-obm_3.2                   eae86aab-da30-5229-a6a6-1d0d4e368983  base\n",
      "tensorflow_rt22.2-py3.10         f65bd165-f057-55de-b5cb-f97cf2c0f393  base\n",
      "do_20.1                          f686cdd9-7904-5f9d-a732-01b0d6b10dc5  base\n",
      "pytorch-onnx_rt22.2-py3.10-edt   f8a05d07-e7cd-57bb-a10b-23f1d4b837ac  base\n",
      "scikit-learn_0.19-py3.6          f963fa9d-4bb7-5652-9c5d-8d9289ef6ad9  base\n",
      "tensorflow_2.4-py3.8             fe185c44-9a99-5425-986b-59bd1d2eda46  base\n",
      "-------------------------------  ------------------------------------  ----\n"
     ]
    }
   ],
   "source": [
    "wml_client.software_specifications.list(500)"
   ]
  },
  {
   "cell_type": "code",
   "execution_count": 68,
   "metadata": {},
   "outputs": [
    {
     "data": {
      "text/plain": [
       "'1.0.2'"
      ]
     },
     "execution_count": 68,
     "metadata": {},
     "output_type": "execute_result"
    }
   ],
   "source": [
    "import sklearn\n",
    "sklearn.__version__"
   ]
  },
  {
   "cell_type": "code",
   "execution_count": 69,
   "metadata": {},
   "outputs": [],
   "source": [
    "MODEL_NAME = 'PredictionModel'\n",
    "DEPLOYMENT_NAME = 'ece'\n",
    "DEMO_MODEL = regressor"
   ]
  },
  {
   "cell_type": "code",
   "execution_count": 70,
   "metadata": {},
   "outputs": [
    {
     "data": {
      "text/plain": [
       "'12b83a17-24d8-5082-900f-0ab31fbfd3cb'"
      ]
     },
     "execution_count": 70,
     "metadata": {},
     "output_type": "execute_result"
    }
   ],
   "source": [
    "software_spec_uid = wml_client.software_specifications.get_id_by_name('runtime-22.1-py3.9')\n",
    "software_spec_uid"
   ]
  },
  {
   "cell_type": "code",
   "execution_count": 71,
   "metadata": {},
   "outputs": [],
   "source": [
    "model_props = {\n",
    "    wml_client.repository.ModelMetaNames.NAME:MODEL_NAME ,\n",
    "    wml_client.repository.ModelMetaNames.TYPE: 'scikit-learn_1.0',\n",
    "    wml_client.repository.ModelMetaNames.SOFTWARE_SPEC_UID:software_spec_uid\n",
    "}\n"
   ]
  },
  {
   "cell_type": "code",
   "execution_count": 72,
   "metadata": {},
   "outputs": [],
   "source": [
    "model_details = wml_client.repository.store_model(\n",
    "    model =DEMO_MODEL,\n",
    "    meta_props=model_props,\n",
    "    training_data=x_train,\n",
    "    training_target=y_train\n",
    ")"
   ]
  },
  {
   "cell_type": "code",
   "execution_count": 73,
   "metadata": {},
   "outputs": [
    {
     "data": {
      "text/plain": [
       "{'entity': {'hybrid_pipeline_software_specs': [],\n",
       "  'label_column': 'l0',\n",
       "  'schemas': {'input': [{'fields': [{'name': 'f0', 'type': 'float'},\n",
       "      {'name': 'f1', 'type': 'float'},\n",
       "      {'name': 'f2', 'type': 'float'},\n",
       "      {'name': 'f3', 'type': 'float'},\n",
       "      {'name': 'f4', 'type': 'float'},\n",
       "      {'name': 'f5', 'type': 'float'},\n",
       "      {'name': 'f6', 'type': 'float'}],\n",
       "     'id': '1',\n",
       "     'type': 'struct'}],\n",
       "   'output': []},\n",
       "  'software_spec': {'id': '12b83a17-24d8-5082-900f-0ab31fbfd3cb',\n",
       "   'name': 'runtime-22.1-py3.9'},\n",
       "  'type': 'scikit-learn_1.0'},\n",
       " 'metadata': {'created_at': '2022-11-12T08:02:14.456Z',\n",
       "  'id': '4b245df3-3c5e-4660-87ad-3b253c4ee2d5',\n",
       "  'modified_at': '2022-11-12T08:02:18.233Z',\n",
       "  'name': 'PredictionModel',\n",
       "  'owner': 'IBMid-6630041NP6',\n",
       "  'resource_key': 'e4112a14-d579-431d-8e5e-54a42d7021dd',\n",
       "  'space_id': '062af0ec-8f2f-44f6-a043-008c96534e99'},\n",
       " 'system': {'warnings': []}}"
      ]
     },
     "execution_count": 73,
     "metadata": {},
     "output_type": "execute_result"
    }
   ],
   "source": [
    "model_details"
   ]
  },
  {
   "cell_type": "code",
   "execution_count": 74,
   "metadata": {},
   "outputs": [],
   "source": [
    "model_id = wml_client.repository.get_model_id(model_details)"
   ]
  },
  {
   "cell_type": "code",
   "execution_count": 75,
   "metadata": {},
   "outputs": [
    {
     "data": {
      "text/plain": [
       "'4b245df3-3c5e-4660-87ad-3b253c4ee2d5'"
      ]
     },
     "execution_count": 75,
     "metadata": {},
     "output_type": "execute_result"
    }
   ],
   "source": [
    "model_id"
   ]
  },
  {
   "cell_type": "code",
   "execution_count": 76,
   "metadata": {},
   "outputs": [],
   "source": [
    "deployment_props = {\n",
    "    wml_client.deployments.ConfigurationMetaNames.NAME:DEPLOYMENT_NAME,\n",
    "    wml_client.deployments.ConfigurationMetaNames.ONLINE: {}\n",
    "}"
   ]
  },
  {
   "cell_type": "code",
   "execution_count": 77,
   "metadata": {},
   "outputs": [
    {
     "name": "stdout",
     "output_type": "stream",
     "text": [
      "\n",
      "\n",
      "#######################################################################################\n",
      "\n",
      "Synchronous deployment creation for uid: '4b245df3-3c5e-4660-87ad-3b253c4ee2d5' started\n",
      "\n",
      "#######################################################################################\n",
      "\n",
      "\n",
      "initializing\n",
      "Note: online_url is deprecated and will be removed in a future release. Use serving_urls instead.\n",
      "\n",
      "ready\n",
      "\n",
      "\n",
      "------------------------------------------------------------------------------------------------\n",
      "Successfully finished deployment creation, deployment_uid='e45a935d-6f29-45d9-b011-b62e432ad4a2'\n",
      "------------------------------------------------------------------------------------------------\n",
      "\n",
      "\n"
     ]
    }
   ],
   "source": [
    "deployment = wml_client.deployments.create(\n",
    "    artifact_uid=model_id,\n",
    "    meta_props=deployment_props\n",
    ")"
   ]
  },
  {
   "cell_type": "code",
   "execution_count": null,
   "metadata": {},
   "outputs": [],
   "source": []
  }
 ],
 "metadata": {
  "colab": {
   "provenance": []
  },
  "kernelspec": {
   "display_name": "Python 3.9",
   "language": "python",
   "name": "python3"
  },
  "language_info": {
   "codemirror_mode": {
    "name": "ipython",
    "version": 3
   },
   "file_extension": ".py",
   "mimetype": "text/x-python",
   "name": "python",
   "nbconvert_exporter": "python",
   "pygments_lexer": "ipython3",
   "version": "3.9.13"
  }
 },
 "nbformat": 4,
 "nbformat_minor": 1
}
